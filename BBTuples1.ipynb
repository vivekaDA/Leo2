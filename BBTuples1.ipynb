{
  "nbformat": 4,
  "nbformat_minor": 0,
  "metadata": {
    "colab": {
      "provenance": []
    },
    "kernelspec": {
      "name": "python3",
      "display_name": "Python 3"
    },
    "language_info": {
      "name": "python"
    }
  },
  "cells": [
    {
      "cell_type": "code",
      "execution_count": 30,
      "metadata": {
        "colab": {
          "base_uri": "https://localhost:8080/"
        },
        "id": "OdzsC-NcR9bL",
        "outputId": "08e1aa56-4982-4744-f06f-675ab10c2d46"
      },
      "outputs": [
        {
          "output_type": "stream",
          "name": "stdout",
          "text": [
            "('Npower', 'JDA', 'Tuesday', 30, 3)\n"
          ]
        }
      ],
      "source": [
        "#create myTuple with the following values\"Npower\", \"JDA\",\"Tuesday\",30,3\n",
        "my_Tuple = (\"Npower\", \"JDA\",\"Tuesday\",30,3)\n",
        "print(my_Tuple)"
      ]
    },
    {
      "cell_type": "code",
      "source": [
        "#what is the type of my_Tuple\n",
        "type(my_Tuple)"
      ],
      "metadata": {
        "colab": {
          "base_uri": "https://localhost:8080/"
        },
        "id": "tl5cEdBFSiFN",
        "outputId": "9a42a798-1ac7-4970-ae1e-4790160ed36c"
      },
      "execution_count": 31,
      "outputs": [
        {
          "output_type": "execute_result",
          "data": {
            "text/plain": [
              "tuple"
            ]
          },
          "metadata": {},
          "execution_count": 31
        }
      ]
    },
    {
      "cell_type": "code",
      "source": [
        "#length of my_Tuple\n",
        "Length_of_my_Tuple=len(my_Tuple)\n",
        "print(Length_of_my_Tuple)"
      ],
      "metadata": {
        "colab": {
          "base_uri": "https://localhost:8080/"
        },
        "id": "XK0iNU9xS5Id",
        "outputId": "661154da-4a33-466b-a6e3-220cb1a86ab4"
      },
      "execution_count": 32,
      "outputs": [
        {
          "output_type": "stream",
          "name": "stdout",
          "text": [
            "5\n"
          ]
        }
      ]
    },
    {
      "cell_type": "code",
      "source": [
        "#print the values in each index\n",
        "print(my_Tuple[0])\n",
        "print(my_Tuple[1])\n",
        "print(my_Tuple[2])\n",
        "print(my_Tuple[3])\n",
        "print(my_Tuple[4])"
      ],
      "metadata": {
        "colab": {
          "base_uri": "https://localhost:8080/"
        },
        "id": "j7POUaSzTHfR",
        "outputId": "cb138fc2-dd54-477b-8902-0e83a72ce704"
      },
      "execution_count": 33,
      "outputs": [
        {
          "output_type": "stream",
          "name": "stdout",
          "text": [
            "Npower\n",
            "JDA\n",
            "Tuesday\n",
            "30\n",
            "3\n"
          ]
        }
      ]
    },
    {
      "cell_type": "code",
      "source": [
        "#print the values in each index #use negative indexing\n",
        "print(my_Tuple[-1])\n",
        "print(my_Tuple[-2])\n",
        "print(my_Tuple[-3])\n",
        "print(my_Tuple[-4])\n",
        "print(my_Tuple[-5])"
      ],
      "metadata": {
        "colab": {
          "base_uri": "https://localhost:8080/"
        },
        "id": "CDmX55f0TY5t",
        "outputId": "747b924a-e8b6-4894-dc7a-e8e3303aedc3"
      },
      "execution_count": 34,
      "outputs": [
        {
          "output_type": "stream",
          "name": "stdout",
          "text": [
            "3\n",
            "30\n",
            "Tuesday\n",
            "JDA\n",
            "Npower\n"
          ]
        }
      ]
    },
    {
      "cell_type": "code",
      "source": [
        "# what is the type of each value\n",
        "type(my_Tuple[0])\n",
        "type(my_Tuple[1])\n",
        "type(my_Tuple[2])\n",
        "type(my_Tuple[3])\n",
        "type(my_Tuple[4])\n",
        "\n"
      ],
      "metadata": {
        "colab": {
          "base_uri": "https://localhost:8080/"
        },
        "id": "15knp2vITxqc",
        "outputId": "ea445f1e-febf-4727-f41c-f0304a02070a"
      },
      "execution_count": 39,
      "outputs": [
        {
          "output_type": "execute_result",
          "data": {
            "text/plain": [
              "int"
            ]
          },
          "metadata": {},
          "execution_count": 39
        }
      ]
    },
    {
      "cell_type": "code",
      "source": [
        "#unpack myTuple in the following variables name,program,dayname,month,day,year# print the variables\n",
        "name,program,dayname,month,day=my_Tuple\n",
        "print(name)\n",
        "print(program)\n",
        "print(dayname)\n",
        "print(month)\n",
        "print(day)"
      ],
      "metadata": {
        "colab": {
          "base_uri": "https://localhost:8080/"
        },
        "id": "PQKBD9pqVhYK",
        "outputId": "56520dfb-3e51-4792-a37e-44978c44e538"
      },
      "execution_count": 41,
      "outputs": [
        {
          "output_type": "stream",
          "name": "stdout",
          "text": [
            "Npower\n",
            "JDA\n",
            "Tuesday\n",
            "30\n",
            "3\n"
          ]
        }
      ]
    },
    {
      "cell_type": "code",
      "source": [
        "#unpack myTuple2 in the following variable name,program,dayTime# what will happen to variables (name,program,daytime)and(month,day,year)\n",
        "my_Tuple2=(\"Npower\", \"JDA\",\"Tuesday\",30,3)\n",
        "name,program,dayname,month,day=my_Tuple2\n",
        "print(name)\n",
        "print(program)\n",
        "print(dayname)\n",
        "print(month)"
      ],
      "metadata": {
        "colab": {
          "base_uri": "https://localhost:8080/"
        },
        "id": "g2JCNd0TWD8_",
        "outputId": "7d572894-8f02-4075-a218-f350e91bba57"
      },
      "execution_count": 42,
      "outputs": [
        {
          "output_type": "stream",
          "name": "stdout",
          "text": [
            "Npower\n",
            "JDA\n",
            "Tuesday\n",
            "30\n"
          ]
        }
      ]
    }
  ]
}