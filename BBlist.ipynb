{
  "nbformat": 4,
  "nbformat_minor": 0,
  "metadata": {
    "colab": {
      "provenance": []
    },
    "kernelspec": {
      "name": "python3",
      "display_name": "Python 3"
    },
    "language_info": {
      "name": "python"
    }
  },
  "cells": [
    {
      "cell_type": "code",
      "execution_count": null,
      "metadata": {
        "id": "-2gy3-WXIwi5"
      },
      "outputs": [],
      "source": [
        "# create a tuple with all participants name in the JDA program"
      ]
    },
    {
      "cell_type": "markdown",
      "source": [],
      "metadata": {
        "id": "3OTj4ST1JdDI"
      }
    },
    {
      "cell_type": "code",
      "source": [
        "JDA_Participants=[\"viveka\",\"kawsain\",\"vishnu\",\"suffiyan\",\"Jeffery\"]\n",
        "print(JDA_Participants)\n"
      ],
      "metadata": {
        "colab": {
          "base_uri": "https://localhost:8080/"
        },
        "id": "onmtOIQqJcdh",
        "outputId": "58c64f3d-a5f7-421d-ea33-3a960a767fd3"
      },
      "execution_count": 2,
      "outputs": [
        {
          "output_type": "stream",
          "name": "stdout",
          "text": [
            "['viveka', 'kawsain', 'vishnu', 'suffiyan', 'Jeffery']\n"
          ]
        }
      ]
    },
    {
      "cell_type": "code",
      "source": [
        "#convert the tuple into a list called pps_L\n",
        "pps_L=list(JDA_Participants)\n",
        "print(pps_L)"
      ],
      "metadata": {
        "colab": {
          "base_uri": "https://localhost:8080/"
        },
        "id": "2jUaqhEnLr5m",
        "outputId": "0899a84e-cf64-4f93-d29a-b12080e787bc"
      },
      "execution_count": 3,
      "outputs": [
        {
          "output_type": "stream",
          "name": "stdout",
          "text": [
            "['viveka', 'kawsain', 'vishnu', 'suffiyan', 'Jeffery']\n"
          ]
        }
      ]
    },
    {
      "cell_type": "code",
      "source": [
        "#what is the length of your list\n",
        "length_of_list=len(pps_L)\n",
        "print(length_of_list)"
      ],
      "metadata": {
        "colab": {
          "base_uri": "https://localhost:8080/"
        },
        "id": "8nfIuPfQMF80",
        "outputId": "43389ddb-a981-44e2-b8c2-b5a04709b663"
      },
      "execution_count": 4,
      "outputs": [
        {
          "output_type": "stream",
          "name": "stdout",
          "text": [
            "5\n"
          ]
        }
      ]
    },
    {
      "cell_type": "code",
      "source": [
        "#find the values stored in indexes\n",
        "print(pps_L[0])\n",
        "print(pps_L[1])\n",
        "print(pps_L[2])\n",
        "print(pps_L[3])\n",
        "print(pps_L[4])"
      ],
      "metadata": {
        "colab": {
          "base_uri": "https://localhost:8080/"
        },
        "id": "N0LmJxHjMl2C",
        "outputId": "a340190e-e342-471c-e1fe-766496e29707"
      },
      "execution_count": 5,
      "outputs": [
        {
          "output_type": "stream",
          "name": "stdout",
          "text": [
            "viveka\n",
            "kawsain\n",
            "vishnu\n",
            "suffiyan\n",
            "Jeffery\n"
          ]
        }
      ]
    },
    {
      "cell_type": "code",
      "source": [
        "#check if sarah is in the list\n",
        "if \"sarah\" in pps_L:\n",
        "    print(\"sarah is in the list\")\n",
        "else:\n",
        "    pass\n",
        "    print(\"sarah is not in the list\")"
      ],
      "metadata": {
        "colab": {
          "base_uri": "https://localhost:8080/"
        },
        "id": "CvYg4Si5M4Jr",
        "outputId": "ee3cc2fe-7dca-4092-8b98-31a3779b77f9"
      },
      "execution_count": 9,
      "outputs": [
        {
          "output_type": "stream",
          "name": "stdout",
          "text": [
            "sarah is not in the list\n"
          ]
        }
      ]
    },
    {
      "cell_type": "code",
      "source": [
        "#Add sarah to your list\n",
        "pps_L.append(\"sarah\")\n",
        "print(pps_L)"
      ],
      "metadata": {
        "colab": {
          "base_uri": "https://localhost:8080/"
        },
        "id": "NvyfdvmKNog8",
        "outputId": "819d2694-d327-4eb0-aa08-94d0613f6219"
      },
      "execution_count": 10,
      "outputs": [
        {
          "output_type": "stream",
          "name": "stdout",
          "text": [
            "['viveka', 'kawsain', 'vishnu', 'suffiyan', 'Jeffery', 'sarah']\n"
          ]
        }
      ]
    },
    {
      "cell_type": "code",
      "source": [
        "#check if \"bashir\" is in the list\n",
        "if \"bashir\" in pps_L:\n",
        "  print(\"bashir is in the list\")\n",
        "else:\n",
        "    pass\n",
        "    print(\"bashir is not in the list\")"
      ],
      "metadata": {
        "colab": {
          "base_uri": "https://localhost:8080/"
        },
        "id": "dt7uqLHIN26K",
        "outputId": "e0576dfc-4df4-4891-afc9-b2eaa52b6574"
      },
      "execution_count": 16,
      "outputs": [
        {
          "output_type": "stream",
          "name": "stdout",
          "text": [
            "bashir is not in the list\n"
          ]
        }
      ]
    },
    {
      "cell_type": "code",
      "source": [
        "#Add \"Bashir\" to your list\n",
        "pps_L.append(\"bashir\")\n",
        "print(pps_L)"
      ],
      "metadata": {
        "colab": {
          "base_uri": "https://localhost:8080/"
        },
        "id": "yd39cHGdO50z",
        "outputId": "b5ad064e-3935-438d-f514-c5273181755f"
      },
      "execution_count": 17,
      "outputs": [
        {
          "output_type": "stream",
          "name": "stdout",
          "text": [
            "['viveka', 'kawsain', 'vishnu', 'suffiyan', 'Jeffery', 'sarah', 'bashir']\n"
          ]
        }
      ]
    },
    {
      "cell_type": "code",
      "source": [
        "#find the index of the element \"sarah\" in the list\n",
        "index_of_sarah=pps_L.index(\"sarah\")\n",
        "print(index_of_sarah)"
      ],
      "metadata": {
        "colab": {
          "base_uri": "https://localhost:8080/"
        },
        "id": "CEEMCOBqPMy7",
        "outputId": "6d67da67-dc61-4943-e344-b92b55a4645f"
      },
      "execution_count": 18,
      "outputs": [
        {
          "output_type": "stream",
          "name": "stdout",
          "text": [
            "5\n"
          ]
        }
      ]
    },
    {
      "cell_type": "code",
      "source": [
        "#change the value of the index in Q10 from sarah to instructor\n",
        "pps_L[index_of_sarah]=\"instructor\"\n",
        "print(pps_L)"
      ],
      "metadata": {
        "colab": {
          "base_uri": "https://localhost:8080/"
        },
        "id": "a74QgXTRPeQI",
        "outputId": "6f4755a0-a1d8-4fd0-ba00-20d7b82e86d2"
      },
      "execution_count": 19,
      "outputs": [
        {
          "output_type": "stream",
          "name": "stdout",
          "text": [
            "['viveka', 'kawsain', 'vishnu', 'suffiyan', 'Jeffery', 'instructor', 'bashir']\n"
          ]
        }
      ]
    },
    {
      "cell_type": "code",
      "source": [
        "#find the index of the element \"Bashir\" in the list\n",
        "index_of_bashir=pps_L.index(\"bashir\")\n",
        "print(index_of_bashir)"
      ],
      "metadata": {
        "colab": {
          "base_uri": "https://localhost:8080/"
        },
        "id": "oEq9OuSoP40Z",
        "outputId": "f4778457-3005-4baf-9c57-b5db9a1a074a"
      },
      "execution_count": 20,
      "outputs": [
        {
          "output_type": "stream",
          "name": "stdout",
          "text": [
            "6\n"
          ]
        }
      ]
    },
    {
      "cell_type": "code",
      "source": [
        "#change the value of the index in Q12 from Bashir to peer_mentor\n",
        "pps_L[index_of_bashir]=\"peer_mentor\"\n",
        "print(pps_L)"
      ],
      "metadata": {
        "colab": {
          "base_uri": "https://localhost:8080/"
        },
        "id": "MApsu0lnQJMl",
        "outputId": "978f42e4-69d8-4572-ec0b-d3238d415c63"
      },
      "execution_count": 21,
      "outputs": [
        {
          "output_type": "stream",
          "name": "stdout",
          "text": [
            "['viveka', 'kawsain', 'vishnu', 'suffiyan', 'Jeffery', 'instructor', 'peer_mentor']\n"
          ]
        }
      ]
    }
  ]
}