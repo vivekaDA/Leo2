{
  "nbformat": 4,
  "nbformat_minor": 0,
  "metadata": {
    "colab": {
      "provenance": []
    },
    "kernelspec": {
      "name": "python3",
      "display_name": "Python 3"
    },
    "language_info": {
      "name": "python"
    }
  },
  "cells": [
    {
      "cell_type": "code",
      "execution_count": 1,
      "metadata": {
        "colab": {
          "base_uri": "https://localhost:8080/"
        },
        "id": "G2KW9QDKwpY9",
        "outputId": "5f6666d0-479e-4ec2-be6f-4657adf62527"
      },
      "outputs": [
        {
          "output_type": "stream",
          "name": "stdout",
          "text": [
            "True\n",
            "False\n",
            "True\n"
          ]
        }
      ],
      "source": [
        "#Give a list of numbers ,Return True if first\n",
        "#and last number of a list is same\n",
        "#list1=[1,2,5,4,1]\n",
        "#list2=[5,6,3,2,1]\n",
        "#list3=[88,44,55,66,77,88]\n",
        "list1=[1,2,5,4,1]\n",
        "list2=[5,6,3,2,1]\n",
        "list3=[88,44,55,66,77,88]\n",
        "if list1[0]==list1[-1]:\n",
        "    print(\"True\")\n",
        "else:\n",
        "    print(\"False\")\n",
        "\n",
        "if list2[0]==list2[-1]:\n",
        "    print(\"True\")\n",
        "else:\n",
        "    print(\"False\")\n",
        "\n",
        "if list3[0]==list3[-1]:\n",
        "    print(\"True\")\n",
        "else:\n",
        "    print(\"False\")"
      ]
    },
    {
      "cell_type": "code",
      "source": [
        "#write a python functions that takes a list and Returns a new list with unique elements of the first#sample_list:[1,2,3,3,3,3,4,5]\n",
        "#unique_list:[1,2,3,4,5]\n",
        "sample_list=[1,2,3,3,3,3,4,5]\n",
        "unique_list=[]\n",
        "for i in sample_list:\n",
        "    if i not in unique_list:\n",
        "        unique_list.append(i)\n",
        "print(unique_list)\n"
      ],
      "metadata": {
        "colab": {
          "base_uri": "https://localhost:8080/"
        },
        "id": "_ipBm0Sbx2z_",
        "outputId": "b7d5e7c1-ab0e-4200-bc59-9d2b84ef959f"
      },
      "execution_count": 2,
      "outputs": [
        {
          "output_type": "stream",
          "name": "stdout",
          "text": [
            "[1, 2, 3, 4, 5]\n"
          ]
        }
      ]
    },
    {
      "cell_type": "code",
      "source": [
        "sample_list=[1,2,3,3,3,3,4,5]\n",
        "unique_list=set(sample_list)\n",
        "print(list(unique_list))\n"
      ],
      "metadata": {
        "colab": {
          "base_uri": "https://localhost:8080/"
        },
        "id": "nvoPrERIyoKX",
        "outputId": "5e555e60-39a2-45e3-f0e9-9c2b6743c5fb"
      },
      "execution_count": 3,
      "outputs": [
        {
          "output_type": "stream",
          "name": "stdout",
          "text": [
            "[1, 2, 3, 4, 5]\n"
          ]
        }
      ]
    },
    {
      "cell_type": "code",
      "source": [
        "#write a python function to find the max of three numbers\n",
        "MaxNumbers=max(22,23,24)\n",
        "print(MaxNumbers)\n"
      ],
      "metadata": {
        "colab": {
          "base_uri": "https://localhost:8080/"
        },
        "id": "3W0rWVAF018g",
        "outputId": "ac2240dc-f73b-4998-ed8a-17881119e6bc"
      },
      "execution_count": 4,
      "outputs": [
        {
          "output_type": "stream",
          "name": "stdout",
          "text": [
            "24\n"
          ]
        }
      ]
    },
    {
      "cell_type": "code",
      "source": [
        "#write python function that takes two inputs and return their sum value\n",
        "Num1=input('Enter first number')\n",
        "Num2=input(\"Enter Second number\")\n",
        "Sum=int(Num1)+int(Num2)\n",
        "print(Sum)"
      ],
      "metadata": {
        "colab": {
          "base_uri": "https://localhost:8080/"
        },
        "id": "yMwLDBUb1Ro6",
        "outputId": "157b6d60-e7cb-4e4e-cf1d-76a65ab29fc1"
      },
      "execution_count": 6,
      "outputs": [
        {
          "output_type": "stream",
          "name": "stdout",
          "text": [
            "Enter first number55\n",
            "Enter Second number77\n",
            "132\n"
          ]
        }
      ]
    },
    {
      "cell_type": "code",
      "source": [
        "#write python function the takes a celsius temperature and converts it into farenheit\n",
        "celsius=float(input(\"Enter temperature in celsius\"))\n",
        "farenheit=(celsius*9/5)+32\n",
        "print(farenheit)\n"
      ],
      "metadata": {
        "colab": {
          "base_uri": "https://localhost:8080/"
        },
        "id": "ejovC9Bt2Ltg",
        "outputId": "f5021787-ff5a-46df-932a-1b1a24c3d87c"
      },
      "execution_count": 14,
      "outputs": [
        {
          "output_type": "stream",
          "name": "stdout",
          "text": [
            "Enter temperature in celsius37\n",
            "98.6\n"
          ]
        }
      ]
    },
    {
      "cell_type": "code",
      "source": [
        "#write a python function to check whether a number is in a given range[5,12]\n",
        "numbers = range(5,13)\n",
        "for number in range(5,13):\n",
        "  print(number in numbers)\n",
        "\n"
      ],
      "metadata": {
        "colab": {
          "base_uri": "https://localhost:8080/"
        },
        "id": "JhrG05GE332m",
        "outputId": "e4e4686f-cd1d-430d-8780-bc220d19a17f"
      },
      "execution_count": 17,
      "outputs": [
        {
          "output_type": "stream",
          "name": "stdout",
          "text": [
            "True\n",
            "True\n",
            "True\n",
            "True\n",
            "True\n",
            "True\n",
            "True\n",
            "True\n"
          ]
        }
      ]
    }
  ]
}